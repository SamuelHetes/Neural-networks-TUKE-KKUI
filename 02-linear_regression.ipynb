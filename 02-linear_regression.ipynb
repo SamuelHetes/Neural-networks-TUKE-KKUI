{
 "cells": [
  {
   "cell_type": "markdown",
   "source": [
    "# KKUI CIT Course - Neural networks - Week_02 - Linear regression (basic)\n"
   ],
   "metadata": {
    "collapsed": false
   }
  },
  {
   "cell_type": "code",
   "execution_count": 53,
   "outputs": [],
   "source": [
    "import torch\n",
    "import torch.nn as nn\n",
    "import numpy as np\n",
    "from sklearn import datasets\n",
    "import matplotlib.pyplot as plt"
   ],
   "metadata": {
    "collapsed": false,
    "ExecuteTime": {
     "end_time": "2024-02-18T20:36:07.624241Z",
     "start_time": "2024-02-18T20:36:07.623735Z"
    }
   }
  },
  {
   "cell_type": "markdown",
   "source": [
    "## Prepair data"
   ],
   "metadata": {
    "collapsed": false
   }
  },
  {
   "cell_type": "code",
   "execution_count": 65,
   "outputs": [],
   "source": [
    "# Generate synthetic regression data using scikit-learn's make_regression function\n",
    "# Parameters:\n",
    "#   - n_samples: Number of samples to generate\n",
    "#   - n_features: Number of features (independent variables) in the data\n",
    "#   - noise: Standard deviation of the Gaussian noise added to the data\n",
    "#   - random_state: Seed for random number generation to ensure reproducibility\n",
    "X_numpy, y_numpy = datasets.make_regression(n_samples=100, n_features=1, noise=50,  tail_strength=0.9, random_state=4)\n",
    "\n",
    "# Cast the generated NumPy arrays to float32 data type and convert them into PyTorch tensors - data from source are in double type, pytorch require float\n",
    "# Convert features (X) and target variable (y) to PyTorch tensors\n",
    "X = torch.from_numpy(X_numpy.astype(np.float32))\n",
    "y = torch.from_numpy(y_numpy.astype(np.float32))\n",
    "\n",
    "# Reshape the target variable tensor to ensure compatibility with model training\n",
    "# Reshaping is necessary because PyTorch expects the target variable to have dimensions (n_samples, n_outputs)\n",
    "# In this case, since we have only one output, we reshape it to (n_samples, 1)\n",
    "y = y.view(y.shape[0], 1)\n"
   ],
   "metadata": {
    "collapsed": false,
    "ExecuteTime": {
     "end_time": "2024-02-18T20:36:48.586899Z",
     "start_time": "2024-02-18T20:36:48.555747Z"
    }
   }
  },
  {
   "cell_type": "code",
   "execution_count": 66,
   "outputs": [
    {
     "data": {
      "text/plain": "torch.Size([100, 1])"
     },
     "execution_count": 66,
     "metadata": {},
     "output_type": "execute_result"
    }
   ],
   "source": [
    "X.shape"
   ],
   "metadata": {
    "collapsed": false,
    "ExecuteTime": {
     "end_time": "2024-02-18T20:36:48.744554Z",
     "start_time": "2024-02-18T20:36:48.723941Z"
    }
   }
  },
  {
   "cell_type": "markdown",
   "source": [
    "## Model"
   ],
   "metadata": {
    "collapsed": false
   }
  },
  {
   "cell_type": "markdown",
   "source": [
    "PyTorch [documentation](https://pytorch.org/docs/stable/generated/torch.nn.Linear.html) for nn.Linear"
   ],
   "metadata": {
    "collapsed": false
   }
  },
  {
   "cell_type": "code",
   "execution_count": 67,
   "outputs": [],
   "source": [
    "# Get the number of samples and number of features in the dataset\n",
    "n_samples, n_features = X.shape\n",
    "\n",
    "# Define the input size of the model, which is equal to the number of features in the dataset\n",
    "input_size = n_features\n",
    "\n",
    "# Define the output size of the model, which is 1 for linear regression since we are predicting a single continuous value\n",
    "output_size = 1"
   ],
   "metadata": {
    "collapsed": false,
    "ExecuteTime": {
     "end_time": "2024-02-18T20:36:49.202320Z",
     "start_time": "2024-02-18T20:36:49.195497Z"
    }
   }
  },
  {
   "cell_type": "code",
   "execution_count": 68,
   "outputs": [],
   "source": [
    "# Define the linear regression model class using PyTorch's nn.Module\n",
    "# Linear model f = wx + b\n",
    "class MyModel(nn.Module):\n",
    "    def __init__(self, n_input_features):\n",
    "        # Call the constructor of the parent class (nn.Module)\n",
    "        super(MyModel, self).__init__()\n",
    "\n",
    "        # Define the linear layer of the model using nn.Linear\n",
    "        # Parameters:\n",
    "        #   - in_features: Number of input features to the linear layer, which is equal to n_input_features\n",
    "        #   - out_features: Number of output features of the linear layer, which is 1 for linear regression\n",
    "        self.linear = nn.Linear(n_input_features, 1)\n",
    "\n",
    "    def forward(self, x):\n",
    "        # Define the forward pass of the model\n",
    "        # This function takes input data 'x' and computes the predicted output 'y_pred'\n",
    "\n",
    "        # Perform the linear transformation on the input data using the defined linear layer\n",
    "        # The linear layer automatically applies the weights (w) and bias (b) to the input data\n",
    "        # It computes the dot product of input features and weights, and adds the bias term\n",
    "        y_pred = self.linear(x)\n",
    "\n",
    "        # Return the predicted output\n",
    "        return y_pred\n",
    "\n",
    "# Create an instance of the MyModel class, passing the input_size as the number of input features\n",
    "model = MyModel(input_size)\n"
   ],
   "metadata": {
    "collapsed": false,
    "ExecuteTime": {
     "end_time": "2024-02-18T20:36:49.521794Z",
     "start_time": "2024-02-18T20:36:49.516151Z"
    }
   }
  },
  {
   "cell_type": "markdown",
   "source": [
    "## Loss and optimizer\n",
    "This code segment sets up the loss function and optimizer for training the linear regression model. The Mean Squared Error (MSE) loss function is commonly used for regression tasks, and Stochastic Gradient Descent (SGD) optimizer is chosen with a specified learning rate. Detailed comments explain the purpose and parameters of both the loss function and optimizer."
   ],
   "metadata": {
    "collapsed": false
   }
  },
  {
   "cell_type": "code",
   "execution_count": 69,
   "outputs": [],
   "source": [
    "# Set the learning rate for the optimizer\n",
    "learning_rate = 0.01\n",
    "\n",
    "# Define the loss function for the model, which is Mean Squared Error (MSE) loss\n",
    "# The criterion will be used to compute the loss between the model predictions and the actual target values\n",
    "criterion = nn.MSELoss()\n",
    "\n",
    "# Define the optimizer for updating the model parameters during training\n",
    "# Stochastic Gradient Descent (SGD) optimizer is used with the specified learning rate\n",
    "# Parameters:\n",
    "#   - model.parameters(): Provides the parameters (weights and biases) of the model to be optimized\n",
    "#   - lr: Learning rate, which determines the step size of parameter updates during optimization\n",
    "optimizer = torch.optim.SGD(model.parameters(), lr=learning_rate)\n"
   ],
   "metadata": {
    "collapsed": false,
    "ExecuteTime": {
     "end_time": "2024-02-18T20:36:49.831995Z",
     "start_time": "2024-02-18T20:36:49.824144Z"
    }
   }
  },
  {
   "cell_type": "markdown",
   "source": [
    "## Training loop"
   ],
   "metadata": {
    "collapsed": false
   }
  },
  {
   "cell_type": "code",
   "execution_count": 70,
   "outputs": [
    {
     "name": "stdout",
     "output_type": "stream",
     "text": [
      "epoch: 10, loss = 5416.6606\n",
      "epoch: 20, loss = 4271.5518\n",
      "epoch: 30, loss = 3490.6982\n",
      "epoch: 40, loss = 2958.1213\n",
      "epoch: 50, loss = 2594.8057\n",
      "epoch: 60, loss = 2346.9092\n",
      "epoch: 70, loss = 2177.7319\n",
      "epoch: 80, loss = 2062.2549\n",
      "epoch: 90, loss = 1983.4183\n",
      "epoch: 100, loss = 1929.5861\n"
     ]
    }
   ],
   "source": [
    "# Define the number of epochs for training\n",
    "num_epochs = 100\n",
    "\n",
    "# Loop over the specified number of epochs for training the model\n",
    "for epoch in range(num_epochs):\n",
    "    # Forward pass: compute predicted y by passing input data (X) through the model\n",
    "    y_predicted = model(X)\n",
    "\n",
    "    # Compute the loss using the defined loss function (Mean Squared Error)\n",
    "    loss = criterion(y_predicted, y)\n",
    "\n",
    "    # Backward pass: compute gradient of the loss with respect to model parameters\n",
    "    # This calculates the gradients of the loss function w.r.t. the parameters (weights and biases)\n",
    "    loss.backward()\n",
    "\n",
    "    # Update model parameters using the optimizer\n",
    "    # The optimizer adjusts the model parameters based on the computed gradients and the learning rate\n",
    "    optimizer.step()\n",
    "\n",
    "    # Zero the gradients for the next iteration to prevent accumulation\n",
    "    optimizer.zero_grad()\n",
    "\n",
    "    # Print the loss every 10 epochs\n",
    "    if (epoch+1) % 10 == 0:\n",
    "        print(f'epoch: {epoch+1}, loss = {loss.item():.4f}')\n",
    "\n",
    "# After training, detach the predicted values from the computational graph and convert them to NumPy array\n",
    "predicted = model(X).detach().numpy()"
   ],
   "metadata": {
    "collapsed": false,
    "ExecuteTime": {
     "end_time": "2024-02-18T20:36:50.169164Z",
     "start_time": "2024-02-18T20:36:50.134158Z"
    }
   }
  },
  {
   "cell_type": "code",
   "execution_count": 71,
   "outputs": [
    {
     "data": {
      "text/plain": "<Figure size 640x480 with 1 Axes>",
      "image/png": "[encoded data removed]"
     },
     "metadata": {},
     "output_type": "display_data"
    }
   ],
   "source": [
    "# Plot the original data points (red circles) and the predicted regression line (blue line)\n",
    "plt.plot(X_numpy, y_numpy, 'ro', label='Original data')\n",
    "plt.plot(X_numpy, predicted, 'b', label='Fitted line')\n",
    "plt.xlabel('X')\n",
    "plt.ylabel('y')\n",
    "plt.legend()\n",
    "plt.show()"
   ],
   "metadata": {
    "collapsed": false,
    "ExecuteTime": {
     "end_time": "2024-02-18T20:36:50.470812Z",
     "start_time": "2024-02-18T20:36:50.343282Z"
    }
   }
  },
  {
   "cell_type": "code",
   "execution_count": 72,
   "outputs": [
    {
     "name": "stdout",
     "output_type": "stream",
     "text": [
      "Parameter containing:\n",
      "tensor([[62.5532]], requires_grad=True)\n",
      "Parameter containing:\n",
      "tensor([-0.1544], requires_grad=True)\n"
     ]
    }
   ],
   "source": [
    "# Accessing parameters\n",
    "for param in model.parameters():\n",
    "    print(param)"
   ],
   "metadata": {
    "collapsed": false,
    "ExecuteTime": {
     "end_time": "2024-02-18T20:36:50.482500Z",
     "start_time": "2024-02-18T20:36:50.470133Z"
    }
   }
  },
  {
   "cell_type": "markdown",
   "source": [
    "## Testing"
   ],
   "metadata": {
    "collapsed": false
   }
  },
  {
   "cell_type": "code",
   "execution_count": 73,
   "outputs": [
    {
     "data": {
      "text/plain": "tensor([312.6118], grad_fn=<AddBackward0>)"
     },
     "execution_count": 73,
     "metadata": {},
     "output_type": "execute_result"
    }
   ],
   "source": [
    "model(torch.tensor([5.0]))"
   ],
   "metadata": {
    "collapsed": false,
    "ExecuteTime": {
     "end_time": "2024-02-18T20:36:51.004411Z",
     "start_time": "2024-02-18T20:36:50.982976Z"
    }
   }
  },
  {
   "cell_type": "code",
   "execution_count": 74,
   "outputs": [],
   "source": [
    "# Generate some test data points to evaluate the trained model\n",
    "test_x = np.array([[3], [3.45], [4.20]])\n",
    "\n",
    "# Convert the test data to PyTorch tensor with the appropriate data type\n",
    "test_x = torch.from_numpy(test_x.astype(np.float32))\n",
    "\n",
    "# Get the model predictions for the test data\n",
    "test_y = model(test_x)\n",
    "\n",
    "# Detach the test predictions from the computational graph and convert them to NumPy array\n",
    "test_y = test_y.detach().numpy()"
   ],
   "metadata": {
    "collapsed": false,
    "ExecuteTime": {
     "end_time": "2024-02-18T20:36:51.018619Z",
     "start_time": "2024-02-18T20:36:51.006562Z"
    }
   }
  },
  {
   "cell_type": "code",
   "execution_count": 75,
   "outputs": [
    {
     "data": {
      "text/plain": "<Figure size 640x480 with 1 Axes>",
      "image/png": "[encoded data removed]"
     },
     "metadata": {},
     "output_type": "display_data"
    }
   ],
   "source": [
    "# Plot the original data points (red circles), the predicted regression line (blue line), and additional testing values (green crosses)\n",
    "plt.plot(X_numpy, y_numpy, 'ro', label='Original data')  # Plot original data points\n",
    "plt.plot(X_numpy, predicted, 'b', label='Fitted line')    # Plot fitted regression line\n",
    "\n",
    "# Add the testing data points along with their predicted values (marked with green crosses)\n",
    "plt.plot(test_x, test_y, 'gx', label='Testing data')  # Plot testing data points\n",
    "\n",
    "# Set labels for the x and y axes\n",
    "plt.xlabel('X')\n",
    "plt.ylabel('y')\n",
    "\n",
    "# Display legend\n",
    "plt.legend()\n",
    "\n",
    "# Show the plot\n",
    "plt.show()"
   ],
   "metadata": {
    "collapsed": false,
    "ExecuteTime": {
     "end_time": "2024-02-18T20:36:51.507182Z",
     "start_time": "2024-02-18T20:36:51.435629Z"
    }
   }
  },
  {
   "cell_type": "code",
   "execution_count": 75,
   "outputs": [],
   "source": [],
   "metadata": {
    "collapsed": false,
    "ExecuteTime": {
     "end_time": "2024-02-18T20:36:51.632073Z",
     "start_time": "2024-02-18T20:36:51.623384Z"
    }
   }
  },
  {
   "cell_type": "code",
   "execution_count": null,
   "outputs": [],
   "source": [],
   "metadata": {
    "collapsed": false
   }
  }
 ],
 "metadata": {
  "kernelspec": {
   "display_name": "Python 3",
   "language": "python",
   "name": "python3"
  },
  "language_info": {
   "codemirror_mode": {
    "name": "ipython",
    "version": 2
   },
   "file_extension": ".py",
   "mimetype": "text/x-python",
   "name": "python",
   "nbconvert_exporter": "python",
   "pygments_lexer": "ipython2",
   "version": "2.7.6"
  }
 },
 "nbformat": 4,
 "nbformat_minor": 0
}
